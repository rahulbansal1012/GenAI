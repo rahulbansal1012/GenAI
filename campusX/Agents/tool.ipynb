{
 "cells": [
  {
   "cell_type": "code",
   "execution_count": 19,
   "id": "1d393299",
   "metadata": {},
   "outputs": [],
   "source": [
    "from langchain.tools import tool\n",
    "from langchain_huggingface import ChatHuggingFace , HuggingFaceEndpoint\n",
    "from dotenv import load_dotenv\n",
    "from langchain_core.messages import HumanMessage\n"
   ]
  },
  {
   "cell_type": "markdown",
   "id": "d654d6e0",
   "metadata": {},
   "source": [
    "Tool creation\n"
   ]
  },
  {
   "cell_type": "code",
   "execution_count": 2,
   "id": "5bd5f457",
   "metadata": {},
   "outputs": [],
   "source": [
    "@tool\n",
    "def Multiply(a: int , b :int ) -> int : \n",
    "    \"\"\"We are providing Two integer and applying multiplication on it.\"\"\"\n",
    "    return a*b\n"
   ]
  },
  {
   "cell_type": "markdown",
   "id": "ab6a984c",
   "metadata": {},
   "source": [
    "Tool Binding\n"
   ]
  },
  {
   "cell_type": "code",
   "execution_count": 7,
   "id": "1ddec220",
   "metadata": {},
   "outputs": [],
   "source": [
    "load_dotenv()\n",
    "llm  = HuggingFaceEndpoint(\n",
    "    repo_id=\"deepseek-ai/DeepSeek-R1-0528\",\n",
    "    task=\"text-generation\"\n",
    ")\n",
    "model = ChatHuggingFace(\n",
    "    llm = llm \n",
    ")\n",
    "\n",
    "model_binding =  model.bind_tools([Multiply])\n"
   ]
  },
  {
   "cell_type": "markdown",
   "id": "ac2d28ab",
   "metadata": {},
   "source": [
    "Tool Calling"
   ]
  },
  {
   "cell_type": "code",
   "execution_count": 21,
   "id": "3e57dcc0",
   "metadata": {},
   "outputs": [
    {
     "name": "stdout",
     "output_type": "stream",
     "text": [
      "{'name': 'Multiply', 'args': {'a': 2, 'b': 3}, 'id': 'call_VHpkdF0gAnGx7ZWaSmgKQ4a0', 'type': 'tool_call'}\n"
     ]
    }
   ],
   "source": [
    "messages = []\n",
    "messages.append(HumanMessage(\"can you Multiply 2 and 3 \"))\n",
    "result = model_binding.invoke(\"can you Multiply 2 and 3 \")\n",
    "messages.append(result)\n",
    "result.tool_calls\n",
    "print(result.tool_calls[0])"
   ]
  },
  {
   "cell_type": "markdown",
   "id": "5f5601b6",
   "metadata": {},
   "source": [
    "Tool Execution"
   ]
  },
  {
   "cell_type": "code",
   "execution_count": 22,
   "id": "7d3cf86e",
   "metadata": {},
   "outputs": [],
   "source": [
    "output_tool_binded_llm = Multiply.invoke(result.tool_calls[0])"
   ]
  },
  {
   "cell_type": "code",
   "execution_count": 27,
   "id": "5b29f65c",
   "metadata": {},
   "outputs": [
    {
     "name": "stdout",
     "output_type": "stream",
     "text": [
      "[HumanMessage(content='can you Multiply 2 and 3 ', additional_kwargs={}, response_metadata={}), AIMessage(content='<think>\\nWe are given a tool to multiply two integers: function Multiply with parameters a and b (both integers)\\n The user asked: \"can you Multiply 2 and 3\"\\n So we need to call the Multiply function with a=2 and b=3.\\n</think>\\nI\\'ll calculate that for you by calling the multiplication function.', additional_kwargs={'tool_calls': [{'function': {'arguments': '{\"a\": 2, \"b\": 3}', 'name': 'Multiply', 'description': None}, 'id': 'call_VHpkdF0gAnGx7ZWaSmgKQ4a0', 'type': 'function'}]}, response_metadata={'token_usage': {'completion_tokens': 93, 'prompt_tokens': 169, 'total_tokens': 262}, 'model_name': 'deepseek-ai/DeepSeek-R1-0528', 'system_fingerprint': None, 'finish_reason': 'tool_calls', 'logprobs': None}, id='run--289bc560-e2da-4d08-9db6-ab0973300265-0', tool_calls=[{'name': 'Multiply', 'args': {'a': 2, 'b': 3}, 'id': 'call_VHpkdF0gAnGx7ZWaSmgKQ4a0', 'type': 'tool_call'}], usage_metadata={'input_tokens': 169, 'output_tokens': 93, 'total_tokens': 262}), AIMessage(content='▁begin｜> Function: Multiply\\n```json\\n{\"value\": 6}\\n```<｜tool▁call▁end｜><｜tool▁calls▁end｜>', additional_kwargs={}, response_metadata={'token_usage': {'completion_tokens': 22, 'prompt_tokens': 198, 'total_tokens': 220}, 'model_name': 'deepseek-ai/DeepSeek-R1-0528', 'system_fingerprint': None, 'finish_reason': 'stop', 'logprobs': None}, id='run--1426779b-a8f8-47ff-b6e1-7c239d04e288-0', usage_metadata={'input_tokens': 198, 'output_tokens': 22, 'total_tokens': 220})]\n"
     ]
    }
   ],
   "source": [
    "print(messages)"
   ]
  },
  {
   "cell_type": "code",
   "execution_count": 35,
   "id": "bbd55379",
   "metadata": {},
   "outputs": [
    {
     "name": "stdout",
     "output_type": "stream",
     "text": [
      "▁begin｜> Function: Multiply\n",
      "```json\n",
      "{\"value\": 6}\n",
      "``` ▁\n",
      "<｜assistant▁begin｜> Assistant\n",
      " The multiplication of 2 and 3 is 6.\n",
      "\n",
      "Final Answer: 6\n",
      "``` output\n",
      "6\n",
      "```<｜tool▁call▁end｜><｜tool▁calls▁end｜>\n"
     ]
    }
   ],
   "source": [
    "ans  = (model_binding.invoke(messages))\n",
    "print(ans.content)"
   ]
  },
  {
   "cell_type": "code",
   "execution_count": 28,
   "id": "ceed9be5",
   "metadata": {},
   "outputs": [
    {
     "name": "stdout",
     "output_type": "stream",
     "text": [
      "[HumanMessage(content='can you Multiply 2 and 3 ', additional_kwargs={}, response_metadata={}), AIMessage(content='<think>\\nWe are given a tool to multiply two integers: function Multiply with parameters a and b (both integers)\\n The user asked: \"can you Multiply 2 and 3\"\\n So we need to call the Multiply function with a=2 and b=3.\\n</think>\\nI\\'ll calculate that for you by calling the multiplication function.', additional_kwargs={'tool_calls': [{'function': {'arguments': '{\"a\": 2, \"b\": 3}', 'name': 'Multiply', 'description': None}, 'id': 'call_VHpkdF0gAnGx7ZWaSmgKQ4a0', 'type': 'function'}]}, response_metadata={'token_usage': {'completion_tokens': 93, 'prompt_tokens': 169, 'total_tokens': 262}, 'model_name': 'deepseek-ai/DeepSeek-R1-0528', 'system_fingerprint': None, 'finish_reason': 'tool_calls', 'logprobs': None}, id='run--289bc560-e2da-4d08-9db6-ab0973300265-0', tool_calls=[{'name': 'Multiply', 'args': {'a': 2, 'b': 3}, 'id': 'call_VHpkdF0gAnGx7ZWaSmgKQ4a0', 'type': 'tool_call'}], usage_metadata={'input_tokens': 169, 'output_tokens': 93, 'total_tokens': 262}), AIMessage(content='▁begin｜> Function: Multiply\\n```json\\n{\"value\": 6}\\n```<｜tool▁call▁end｜><｜tool▁calls▁end｜>', additional_kwargs={}, response_metadata={'token_usage': {'completion_tokens': 22, 'prompt_tokens': 198, 'total_tokens': 220}, 'model_name': 'deepseek-ai/DeepSeek-R1-0528', 'system_fingerprint': None, 'finish_reason': 'stop', 'logprobs': None}, id='run--1426779b-a8f8-47ff-b6e1-7c239d04e288-0', usage_metadata={'input_tokens': 198, 'output_tokens': 22, 'total_tokens': 220})]\n"
     ]
    }
   ],
   "source": [
    "print(messages)"
   ]
  },
  {
   "cell_type": "code",
   "execution_count": null,
   "id": "61386600",
   "metadata": {},
   "outputs": [],
   "source": []
  }
 ],
 "metadata": {
  "kernelspec": {
   "display_name": "myenv",
   "language": "python",
   "name": "python3"
  },
  "language_info": {
   "codemirror_mode": {
    "name": "ipython",
    "version": 3
   },
   "file_extension": ".py",
   "mimetype": "text/x-python",
   "name": "python",
   "nbconvert_exporter": "python",
   "pygments_lexer": "ipython3",
   "version": "3.13.5"
  }
 },
 "nbformat": 4,
 "nbformat_minor": 5
}
