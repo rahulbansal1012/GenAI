{
 "cells": [
  {
   "cell_type": "code",
   "execution_count": 2,
   "id": "a48d062b",
   "metadata": {},
   "outputs": [
    {
     "name": "stderr",
     "output_type": "stream",
     "text": [
      "c:\\Users\\bansa\\Desktop\\GenAi\\myenv\\Lib\\site-packages\\langchain_community\\utilities\\duckduckgo_search.py:63: RuntimeWarning: This package (`duckduckgo_search`) has been renamed to `ddgs`! Use `pip install ddgs` instead.\n",
      "  with DDGS() as ddgs:\n"
     ]
    },
    {
     "name": "stdout",
     "output_type": "stream",
     "text": [
      "Jul 23, 2025 · What are Large Language Models (LLMs)? A large language model is a type of artificial intelligence algorithm that applies neural network techniques with lots of parameters to … A large language model (LLM) is a language model trained with self-supervised machine learning on a vast amount of text, designed for natural language processing tasks, especially language … Feb 7, 2024 · So, what is an LLM? An LLM is a machine-learning neuro network trained through data input/output sets; frequently, the text is unlabeled or uncategorized, and the model is … Jan 17, 2025 · What Exactly Is an LLM? A Large Language Model (LLM) is a type of AI system designed to understand, interpret, and generate human-like language. It’s trained on … Dec 22, 2023 · LLMs are AI systems used to model and process human language. They are called “large” because these types of models are normally made of hundreds of millions or …\n"
     ]
    }
   ],
   "source": [
    "from langchain_community.tools import DuckDuckGoSearchRun\n",
    "search_tool = DuckDuckGoSearchRun()\n",
    "results =  search_tool.invoke(\"What is LLM?\")\n",
    "print(results)"
   ]
  },
  {
   "cell_type": "code",
   "execution_count": 8,
   "id": "b2d04a39",
   "metadata": {},
   "outputs": [
    {
     "name": "stdout",
     "output_type": "stream",
     "text": [
      "Executing command:\n",
      " dir\n",
      " Volume in drive C is Windows\n",
      " Volume Serial Number is A0D5-90B4\n",
      "\n",
      " Directory of c:\\Users\\bansa\\Desktop\\GenAi\\campusX\\Agents\n",
      "\n",
      "11-08-2025  22:50    <DIR>          .\n",
      "11-08-2025  22:50    <DIR>          ..\n",
      "11-08-2025  22:53               442 inbuilt.ipynb\n",
      "               1 File(s)            442 bytes\n",
      "               2 Dir(s)  72,629,235,712 bytes free\n",
      "\n"
     ]
    },
    {
     "name": "stderr",
     "output_type": "stream",
     "text": [
      "c:\\Users\\bansa\\Desktop\\GenAi\\myenv\\Lib\\site-packages\\langchain_community\\tools\\shell\\tool.py:33: UserWarning: The shell tool has no safeguards by default. Use at your own risk.\n",
      "  warnings.warn(\n"
     ]
    }
   ],
   "source": [
    "from langchain_community.tools import ShellTool\n",
    "shell_toll =  ShellTool()\n",
    "results = shell_toll.invoke(\"dir\")\n",
    "print(results)\n"
   ]
  },
  {
   "cell_type": "code",
   "execution_count": 9,
   "id": "1b2ee3f4",
   "metadata": {},
   "outputs": [],
   "source": [
    "from langchain_community.tools import tool\n",
    "@tool\n",
    "def Multiply(a : int , b : int) -> int :\n",
    "    \"\"\"Mukltiply two integer Number\"\"\"\n",
    "    return a*b\n"
   ]
  },
  {
   "cell_type": "code",
   "execution_count": 11,
   "id": "ef5b084b",
   "metadata": {},
   "outputs": [
    {
     "data": {
      "text/plain": [
       "20"
      ]
     },
     "execution_count": 11,
     "metadata": {},
     "output_type": "execute_result"
    }
   ],
   "source": [
    "Multiply.invoke({'a' : 10 ,'b':2})"
   ]
  },
  {
   "cell_type": "markdown",
   "id": "1e52d854",
   "metadata": {},
   "source": [
    "Method 2 using Structure and Pydantic"
   ]
  },
  {
   "cell_type": "code",
   "execution_count": 12,
   "id": "fc82f67f",
   "metadata": {},
   "outputs": [],
   "source": [
    "from langchain.tools import StructuredTool\n",
    "from pydantic import BaseModel , Field "
   ]
  },
  {
   "cell_type": "code",
   "execution_count": 13,
   "id": "32b5661a",
   "metadata": {},
   "outputs": [],
   "source": [
    "class MultiplyInput(BaseModel):\n",
    "    a : int = Field(description=\"The First Number to Multiply\")\n",
    "    b : int = Field(description=\"The second Number to Multiply\")\n",
    "    "
   ]
  },
  {
   "cell_type": "code",
   "execution_count": 14,
   "id": "54dfc480",
   "metadata": {},
   "outputs": [],
   "source": [
    "def Multiply_fun(a : int , b: int )->int:\n",
    "    return a*b"
   ]
  },
  {
   "cell_type": "code",
   "execution_count": 16,
   "id": "de74e407",
   "metadata": {},
   "outputs": [
    {
     "name": "stdout",
     "output_type": "stream",
     "text": [
      "200\n"
     ]
    }
   ],
   "source": [
    "Multiply_tool = StructuredTool.from_function(\n",
    "    func=Multiply_fun,\n",
    "    name = \"Mutliply\",\n",
    "    description= \"Multiply two Number\",\n",
    "    args_schema=MultiplyInput\n",
    "\n",
    ")\n",
    "results  = Multiply_tool.invoke({'a' : 10 , 'b' :20})\n",
    "print(results)\n"
   ]
  },
  {
   "cell_type": "markdown",
   "id": "46e78609",
   "metadata": {},
   "source": [
    "Tool Calls\n"
   ]
  },
  {
   "cell_type": "code",
   "execution_count": 19,
   "id": "12817c41",
   "metadata": {},
   "outputs": [],
   "source": [
    "from langchain.tools import tool\n",
    "from  langchain_huggingface import ChatHuggingFace , HuggingFaceEndpoint\n",
    "@tool\n",
    "def Mult(a :int , b :int) -> int:\n",
    "    \"\"\"Multiply two Integer number \"\"\"\n",
    "    return a*b\n",
    "\n",
    "\n",
    "\n",
    "\n",
    "\n"
   ]
  },
  {
   "cell_type": "code",
   "execution_count": 22,
   "id": "3a8285b5",
   "metadata": {},
   "outputs": [],
   "source": [
    "llm  = HuggingFaceEndpoint(\n",
    "    repo_id=\"deepseek-ai/DeepSeek-R1-0528\",\n",
    "    task=\"text-generation\"\n",
    ")\n",
    "model = ChatHuggingFace(\n",
    "    llm = llm \n",
    ")"
   ]
  },
  {
   "cell_type": "code",
   "execution_count": 24,
   "id": "42571f15",
   "metadata": {},
   "outputs": [],
   "source": [
    "llm_tool =  model.bind_tools([Mult])"
   ]
  },
  {
   "cell_type": "code",
   "execution_count": 25,
   "id": "68deb755",
   "metadata": {},
   "outputs": [
    {
     "data": {
      "text/plain": [
       "AIMessage(content=\"<think>\\nWe are given a simple multiplication tool. The user's message is a greeting and doesn't require a tool call.\\n Since there's no need to multiply anything in this context, I will respond appropriately to the greeting.\\n</think>\\nHello! I'm just a program, so I don't have feelings, but I'm functioning perfectly and ready to assist you. How can I help you today? For example, if you want to multiply two numbers, I can call my ✖️ math tool! 😊\", additional_kwargs={}, response_metadata={'token_usage': {'completion_tokens': 104, 'prompt_tokens': 159, 'total_tokens': 263}, 'model_name': 'deepseek-ai/DeepSeek-R1-0528', 'system_fingerprint': None, 'finish_reason': 'stop', 'logprobs': None}, id='run--7cec2c97-01f3-4110-baa4-8c6973ae8bc8-0', usage_metadata={'input_tokens': 159, 'output_tokens': 104, 'total_tokens': 263})"
      ]
     },
     "execution_count": 25,
     "metadata": {},
     "output_type": "execute_result"
    }
   ],
   "source": [
    "llm_tool.invoke(\"Hi How are you?\")"
   ]
  },
  {
   "cell_type": "code",
   "execution_count": 28,
   "id": "99f7468b",
   "metadata": {},
   "outputs": [
    {
     "data": {
      "text/plain": [
       "[{'name': 'Mult',\n",
       "  'args': {'a': 2, 'b': 3},\n",
       "  'id': 'call_1K4T3OdzTjK1o0huD6UC2g8r',\n",
       "  'type': 'tool_call'}]"
      ]
     },
     "execution_count": 28,
     "metadata": {},
     "output_type": "execute_result"
    }
   ],
   "source": [
    "llm_tool.invoke(\" 2 Multiply 3\").tool_calls"
   ]
  },
  {
   "cell_type": "code",
   "execution_count": null,
   "id": "f57d323a",
   "metadata": {},
   "outputs": [],
   "source": []
  }
 ],
 "metadata": {
  "kernelspec": {
   "display_name": "myenv",
   "language": "python",
   "name": "python3"
  },
  "language_info": {
   "codemirror_mode": {
    "name": "ipython",
    "version": 3
   },
   "file_extension": ".py",
   "mimetype": "text/x-python",
   "name": "python",
   "nbconvert_exporter": "python",
   "pygments_lexer": "ipython3",
   "version": "3.13.5"
  }
 },
 "nbformat": 4,
 "nbformat_minor": 5
}
