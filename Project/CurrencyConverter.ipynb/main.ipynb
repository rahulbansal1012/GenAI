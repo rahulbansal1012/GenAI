{
 "cells": [
  {
   "cell_type": "code",
   "execution_count": null,
   "id": "adfb25e2",
   "metadata": {},
   "outputs": [],
   "source": [
    "from langchain.tools import tool\n",
    "from dotenv import load_dotenv\n",
    "import os \n",
    "import requests\n",
    "from langchain_huggingface import HuggingFaceEndpoint ,ChatHuggingFace\n",
    "from langchain_core.messages import HumanMessage"
   ]
  },
  {
   "cell_type": "code",
   "execution_count": 12,
   "id": "023d8c40",
   "metadata": {},
   "outputs": [
    {
     "name": "stdout",
     "output_type": "stream",
     "text": [
      "4f4b810b556d43839b207f6c\n"
     ]
    }
   ],
   "source": [
    "load_dotenv()\n",
    "key_currency_converter =  os.getenv(\"EXCHANGE_CURRENCY_API_KEY\")\n",
    "print(key_currency_converter)"
   ]
  },
  {
   "cell_type": "markdown",
   "id": "a88fa1f3",
   "metadata": {},
   "source": [
    "Fucntion for Get the conversion factor from base to target currency\n"
   ]
  },
  {
   "cell_type": "code",
   "execution_count": 49,
   "id": "542c10ca",
   "metadata": {},
   "outputs": [],
   "source": [
    "\n",
    "@tool\n",
    "def get_currency_factor(base_currency : str , target_currency : str)->float:\n",
    "    \"\"\" This function fetches the currency conversion factor between the given base currency and the target currency \"\"\"\n",
    "    url =  f'https://v6.exchangerate-api.com/v6/{key_currency_converter}/pair/{base_currency}/{target_currency}'\n",
    "    resposne = requests.get(url)\n",
    "    return resposne.json()\n",
    "    print(resposne.json())"
   ]
  },
  {
   "cell_type": "code",
   "execution_count": 57,
   "id": "7c53b09a",
   "metadata": {},
   "outputs": [],
   "source": [
    "@tool\n",
    "def convert(base_currency_value : int , conversion_rate : float)->float:\n",
    "    \"\"\"Given a currency conversion rate this fucntion calculate the total value of currency in target currency from base currency value\"\"\"\n",
    "    return base_currency_value*conversion_rate"
   ]
  },
  {
   "cell_type": "code",
   "execution_count": 53,
   "id": "6750217a",
   "metadata": {},
   "outputs": [
    {
     "name": "stdout",
     "output_type": "stream",
     "text": [
      "87.6968\n"
     ]
    }
   ],
   "source": [
    "output = get_currency_factor.invoke({\n",
    "    \"base_currency\" : 'USD' ,\n",
    "    \"target_currency\" : 'INR'\n",
    "})\n",
    "\n",
    "conversion_rate = output.get(\"conversion_rate\")\n",
    "\n",
    "print(conversion_rate)\n"
   ]
  },
  {
   "cell_type": "code",
   "execution_count": 58,
   "id": "a0ac2376",
   "metadata": {},
   "outputs": [
    {
     "data": {
      "text/plain": [
       "876.968"
      ]
     },
     "execution_count": 58,
     "metadata": {},
     "output_type": "execute_result"
    }
   ],
   "source": [
    "convert.invoke({\n",
    "    \"base_currency_value\" : 10 ,\n",
    "    \"conversion_rate\" : conversion_rate \n",
    "})"
   ]
  },
  {
   "cell_type": "markdown",
   "id": "42d36f7a",
   "metadata": {},
   "source": [
    "ModelBinding with tools"
   ]
  },
  {
   "cell_type": "code",
   "execution_count": 63,
   "id": "762379b7",
   "metadata": {},
   "outputs": [],
   "source": [
    "llm  =  HuggingFaceEndpoint(\n",
    "    repo_id=\"deepseek-ai/DeepSeek-R1-0528\",\n",
    "    task=\"text-generation\"\n",
    ")\n",
    "\n",
    "model =  ChatHuggingFace(llm  =  llm)\n",
    "\n",
    "binded_model =  model.bind_tools([get_currency_factor, convert])"
   ]
  },
  {
   "cell_type": "markdown",
   "id": "ab2d525d",
   "metadata": {},
   "source": [
    "calling binding model "
   ]
  },
  {
   "cell_type": "code",
   "execution_count": null,
   "id": "c895a6e4",
   "metadata": {},
   "outputs": [
    {
     "name": "stdout",
     "output_type": "stream",
     "text": [
      "content='<think>\\nWe are given two functions: \\n1. get_currency_factor: to get the conversion factor from base_currency to target_currency.\\n2. convert: to convert an amount using a conversion rate.\\n\\nThe user wants to convert 100 USD to rupee (which is INR, Indian Rupee).\\n\\nSteps:\\n1. Call get_currency_factor to get the conversion rate from USD to INR.\\n   We\\'ll set base_currency as \"USD\" and target_currency as \"INR\".\\n\\n2. Then use the convert function with base_currency_value = 100 and the conversion_rate obtained from the first step.\\n\\nBut note: the function convert requires two parameters: base_currency_value (which is 100) and conversion_rate (which we will get from the first function call).\\n\\nSo, we will break it down into two tool calls.\\n\\nFirst, we get the conversion rate for USD to INR.\\n</think>\\nI\\'ll help you convert 100 USD to Indian Rupees (INR). I\\'ll use the currency conversion tools to get the current exchange rate and perform the calculation.\\n\\nFirst, I\\'ll fetch the current USD to INR conversion rate:' additional_kwargs={'tool_calls': [{'function': {'arguments': '{\"base_currency\": \"USD\", \"target_currency\": \"INR\"}', 'name': 'get_currency_factor', 'description': None}, 'id': 'call_URPXeXiuWuGtqU8zollR1Lgf', 'type': 'function'}]} response_metadata={'token_usage': {'completion_tokens': 266, 'prompt_tokens': 291, 'total_tokens': 557}, 'model_name': 'deepseek-ai/DeepSeek-R1-0528', 'system_fingerprint': None, 'finish_reason': 'tool_calls', 'logprobs': None} id='run--29ff870f-e177-4b34-908e-ae71e24c900d-0' tool_calls=[{'name': 'get_currency_factor', 'args': {'base_currency': 'USD', 'target_currency': 'INR'}, 'id': 'call_URPXeXiuWuGtqU8zollR1Lgf', 'type': 'tool_call'}] usage_metadata={'input_tokens': 291, 'output_tokens': 266, 'total_tokens': 557}\n"
     ]
    }
   ],
   "source": [
    "messages  = []\n",
    "user_query = 'Can you help on converting 100 USD to rupee '\n",
    "intent_output =  binded_model.invoke(user_query)\n",
    "messages.append(HumanMessage(user_query))\n",
    "messages.append(intent_output)\n",
    "\n",
    "print(intent_output)"
   ]
  },
  {
   "cell_type": "markdown",
   "id": "b5c13607",
   "metadata": {},
   "source": [
    "Output Generation"
   ]
  },
  {
   "cell_type": "code",
   "execution_count": null,
   "id": "e921ee34",
   "metadata": {},
   "outputs": [],
   "source": []
  }
 ],
 "metadata": {
  "kernelspec": {
   "display_name": "myenv",
   "language": "python",
   "name": "python3"
  },
  "language_info": {
   "codemirror_mode": {
    "name": "ipython",
    "version": 3
   },
   "file_extension": ".py",
   "mimetype": "text/x-python",
   "name": "python",
   "nbconvert_exporter": "python",
   "pygments_lexer": "ipython3",
   "version": "3.13.5"
  }
 },
 "nbformat": 4,
 "nbformat_minor": 5
}
