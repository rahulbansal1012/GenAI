{
 "cells": [
  {
   "cell_type": "code",
   "execution_count": null,
   "id": "d070925a",
   "metadata": {},
   "outputs": [],
   "source": [
    "from youtube_transcript_api import YouTubeTranscriptApi\n",
    "from langchain.text_splitter import RecursiveCharacterTextSplitter\n",
    "from langchain_huggingface import HuggingFaceEmbeddings,ChatHuggingFace ,HuggingFaceEndpoint\n",
    "from dotenv import load_dotenv\n",
    "from langchain_core.documents import Document\n",
    "from langchain_chroma import Chroma\n",
    "from langchain_core.prompts import PromptTemplate\n",
    "from langchain_core.runnables import RunnableLambda"
   ]
  },
  {
   "cell_type": "code",
   "execution_count": null,
   "id": "1905986b",
   "metadata": {},
   "outputs": [],
   "source": [
    "load_dotenv()"
   ]
  },
  {
   "cell_type": "markdown",
   "id": "a0ba62f4",
   "metadata": {},
   "source": [
    "Fetching Data from YT API\n"
   ]
  },
  {
   "cell_type": "code",
   "execution_count": null,
   "id": "c7d522ad",
   "metadata": {},
   "outputs": [],
   "source": [
    "def fetched_transcript_Formater(inputs):\n",
    "    transcripter = YouTubeTranscriptApi()\n",
    "    \n",
    "\n",
    "    # Data Extraction ->Data loading\n",
    "    transcript_output =  transcripter.fetch(\n",
    "    video_id= inputs[\"video_id\"],\n",
    "    languages=['hi', 'en']\n",
    "    ).to_raw_data()\n",
    "    output_string = \" \"\n",
    "    for i in transcript_output :\n",
    "        output_string += (\" \" + i.get('text'))\n",
    "    print(\"Video Transcripted\")\n",
    "    return output_string.replace(\"\\n\" , \" \")\n",
    "    \n",
    "\n",
    "# Creatring the instance of Trancript Class\n",
    "\n",
    "\n"
   ]
  },
  {
   "cell_type": "markdown",
   "id": "c4f227b5",
   "metadata": {},
   "source": [
    "Splitting and chunking "
   ]
  },
  {
   "cell_type": "code",
   "execution_count": null,
   "id": "6463ede4",
   "metadata": {},
   "outputs": [],
   "source": [
    "def split_text(text):\n",
    "    splitter = RecursiveCharacterTextSplitter(\n",
    "        chunk_size = 500,\n",
    "        chunk_overlap  = 200,\n",
    "\n",
    "    )\n",
    "    chunks = splitter.create_documents([text])\n",
    "    print(\"length of chunks\" , len(chunks))\n",
    "    return chunks\n",
    "# print(\"chunks:: \", chunks)"
   ]
  },
  {
   "cell_type": "markdown",
   "id": "acd9cf4e",
   "metadata": {},
   "source": [
    "Vector Store Creation and Populating Step"
   ]
  },
  {
   "cell_type": "code",
   "execution_count": null,
   "id": "3d6c7edc",
   "metadata": {},
   "outputs": [],
   "source": [
    "def vector_Store_create(docs):\n",
    "    embedding_model = HuggingFaceEmbeddings(\n",
    "        model_name = \"sentence-transformers/all-mpnet-base-v2\"\n",
    ")\n",
    "    vectorDb  = Chroma.from_documents(\n",
    "    collection_name= \"myYtDb\",\n",
    "    embedding = embedding_model,\n",
    "    documents= docs\n",
    ")\n",
    "   \n",
    "    print(\"vector_Store_create\", vectorDb)\n",
    "   \n",
    "    retriever = vectorDb.as_retriever(\n",
    "    search_type = 'similarity',\n",
    "    search_kwargs = {'k' : 4}\n",
    ")\n",
    "    \n",
    "    return {'retriever': retriever, 'vs': vectorDb}\n",
    "   \n",
    "    \n",
    "    \n",
    " \n"
   ]
  },
  {
   "cell_type": "markdown",
   "id": "80c6ea1c",
   "metadata": {},
   "source": [
    "Augmentation Stage"
   ]
  },
  {
   "cell_type": "code",
   "execution_count": null,
   "id": "28b69a6e",
   "metadata": {},
   "outputs": [],
   "source": [
    "tempalte = PromptTemplate(\n",
    "    template=  \"\"\"\n",
    "    You are a helpful AI Assistant.\n",
    "    Answere only from the transcript context.\n",
    "    If context is insufficent just prompt i am unable to figure out amswere.\n",
    "    {context}\n",
    "    question : {question}\n",
    "    \"\"\" ,\n",
    "    input_variables= ['context' , 'question']\n",
    ")\n",
    "\n",
    "\n",
    "print(\"Tempalte Augmented\" , tempalte)"
   ]
  },
  {
   "cell_type": "code",
   "execution_count": null,
   "id": "a9cdd9e1",
   "metadata": {},
   "outputs": [],
   "source": [
    "\n",
    "retriever = vectorDb.as_retriever(\n",
    "    search_type = 'similarity',\n",
    "    search_kwargs = {'k' : 4}\n",
    ")\n",
    "    \n"
   ]
  },
  {
   "cell_type": "markdown",
   "id": "29265cb7",
   "metadata": {},
   "source": [
    "LLM Defination\n"
   ]
  },
  {
   "cell_type": "code",
   "execution_count": null,
   "id": "f51caea1",
   "metadata": {},
   "outputs": [],
   "source": [
    "llm  = HuggingFaceEndpoint(\n",
    "    repo_id=\"deepseek-ai/DeepSeek-R1-0528\",\n",
    "    task=\"text-generation\"\n",
    ")\n",
    "model = ChatHuggingFace(\n",
    "    llm = llm \n",
    ")"
   ]
  },
  {
   "cell_type": "code",
   "execution_count": null,
   "id": "66b02f5d",
   "metadata": {},
   "outputs": [],
   "source": []
  },
  {
   "cell_type": "markdown",
   "id": "db439eab",
   "metadata": {},
   "source": [
    "Build PipeLine"
   ]
  },
  {
   "cell_type": "code",
   "execution_count": null,
   "id": "5e09f0de",
   "metadata": {},
   "outputs": [],
   "source": [
    "video_id  = \"1bUy-1hGZpI\" \n",
    "user_input_question = input(\"Enter the question please : \")\n",
    "pipeLine = (\n",
    "    RunnableLambda(fetched_transcript_Formater)|\n",
    "    RunnableLambda(split_text)|\n",
    "    RunnableLambda(vector_Store_create)|    \n",
    "    RunnableLambda(retriever.invoke(user_input_question))\n",
    "    # RunnableLambda(lambda docs: \"\".join(doc.page_content for doc in docs))|\n",
    "    # tempalte|\n",
    "    # model\n",
    "\n",
    "\n",
    "\n",
    ")\n",
    "pipeLine.invoke({\"video_id\" : video_id , \"user_input_question\" : user_input_question , \"question\" : user_input_question})"
   ]
  },
  {
   "cell_type": "code",
   "execution_count": null,
   "id": "1b57224c",
   "metadata": {},
   "outputs": [],
   "source": [
    "video_id  = \"1bUy-1hGZpI\" \n",
    "user_input_question = input(\"Enter the question please : \")\n",
    "pipeLine = (\n",
    "    RunnableLambda(fetched_transcript_Formater)\n",
    "    )\n",
    "pipeLine.invoke({\"video_id\" : video_id})"
   ]
  },
  {
   "cell_type": "code",
   "execution_count": null,
   "id": "d06762c5",
   "metadata": {},
   "outputs": [
    {
     "ename": "ImportError",
     "evalue": "cannot import name 'StuffDocumentsChain' from 'langchain.chains.combine_documents' (c:\\Users\\bansa\\Desktop\\GenAi\\myenv\\Lib\\site-packages\\langchain\\chains\\combine_documents\\__init__.py)",
     "output_type": "error",
     "traceback": [
      "\u001b[31m---------------------------------------------------------------------------\u001b[39m",
      "\u001b[31mImportError\u001b[39m                               Traceback (most recent call last)",
      "\u001b[36mCell\u001b[39m\u001b[36m \u001b[39m\u001b[32mIn[64]\u001b[39m\u001b[32m, line 11\u001b[39m\n\u001b[32m      9\u001b[39m \u001b[38;5;28;01mfrom\u001b[39;00m\u001b[38;5;250m \u001b[39m\u001b[34;01mlangchain\u001b[39;00m\u001b[34;01m.\u001b[39;00m\u001b[34;01mschema\u001b[39;00m\u001b[38;5;250m \u001b[39m\u001b[38;5;28;01mimport\u001b[39;00m Document\n\u001b[32m     10\u001b[39m \u001b[38;5;28;01mfrom\u001b[39;00m\u001b[38;5;250m \u001b[39m\u001b[34;01mlangchain_core\u001b[39;00m\u001b[34;01m.\u001b[39;00m\u001b[34;01mrunnables\u001b[39;00m\u001b[38;5;250m \u001b[39m\u001b[38;5;28;01mimport\u001b[39;00m RunnableMap\n\u001b[32m---> \u001b[39m\u001b[32m11\u001b[39m \u001b[38;5;28;01mfrom\u001b[39;00m\u001b[38;5;250m \u001b[39m\u001b[34;01mlangchain\u001b[39;00m\u001b[34;01m.\u001b[39;00m\u001b[34;01mchains\u001b[39;00m\u001b[34;01m.\u001b[39;00m\u001b[34;01mcombine_documents\u001b[39;00m\u001b[38;5;250m \u001b[39m\u001b[38;5;28;01mimport\u001b[39;00m StuffDocumentsChain\n\u001b[32m     12\u001b[39m \u001b[38;5;28;01mfrom\u001b[39;00m\u001b[38;5;250m \u001b[39m\u001b[34;01mlangchain\u001b[39;00m\u001b[34;01m.\u001b[39;00m\u001b[34;01mchat_models\u001b[39;00m\u001b[38;5;250m \u001b[39m\u001b[38;5;28;01mimport\u001b[39;00m ChatHuggingFace\n\u001b[32m     15\u001b[39m \u001b[38;5;66;03m# Step 1: Fetch transcript\u001b[39;00m\n",
      "\u001b[31mImportError\u001b[39m: cannot import name 'StuffDocumentsChain' from 'langchain.chains.combine_documents' (c:\\Users\\bansa\\Desktop\\GenAi\\myenv\\Lib\\site-packages\\langchain\\chains\\combine_documents\\__init__.py)"
     ]
    }
   ],
   "source": []
  },
  {
   "cell_type": "code",
   "execution_count": null,
   "id": "a9e26058",
   "metadata": {},
   "outputs": [],
   "source": []
  }
 ],
 "metadata": {
  "kernelspec": {
   "display_name": "myenv",
   "language": "python",
   "name": "python3"
  },
  "language_info": {
   "codemirror_mode": {
    "name": "ipython",
    "version": 3
   },
   "file_extension": ".py",
   "mimetype": "text/x-python",
   "name": "python",
   "nbconvert_exporter": "python",
   "pygments_lexer": "ipython3",
   "version": "3.13.5"
  }
 },
 "nbformat": 4,
 "nbformat_minor": 5
}
